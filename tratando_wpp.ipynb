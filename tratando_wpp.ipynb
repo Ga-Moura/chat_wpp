{
 "cells": [
  {
   "cell_type": "code",
   "execution_count": 297,
   "metadata": {},
   "outputs": [],
   "source": [
    "import pandas as pd"
   ]
  },
  {
   "cell_type": "code",
   "execution_count": 298,
   "metadata": {},
   "outputs": [],
   "source": [
    "path = '_chat.txt'"
   ]
  },
  {
   "cell_type": "code",
   "execution_count": 299,
   "metadata": {},
   "outputs": [],
   "source": [
    "with open(path, 'r', encoding='latin1') as f:\n",
    "    # Leia as linhas do arquivo\n",
    "    lines = f.readlines()"
   ]
  },
  {
   "cell_type": "code",
   "execution_count": 300,
   "metadata": {},
   "outputs": [],
   "source": [
    "df = []"
   ]
  },
  {
   "cell_type": "code",
   "execution_count": 301,
   "metadata": {},
   "outputs": [],
   "source": [
    "import re \n",
    "for line in lines:\n",
    "\n",
    "    df.append(line)\n",
    "\n",
    "df = pd.DataFrame(df,columns=['Conversa_bruta'])\n"
   ]
  },
  {
   "cell_type": "code",
   "execution_count": 302,
   "metadata": {},
   "outputs": [],
   "source": [
    "df['Data_mensagem'] = str(df.Conversa_bruta).split('[')[1].split(']')[0]"
   ]
  },
  {
   "cell_type": "code",
   "execution_count": 303,
   "metadata": {},
   "outputs": [],
   "source": [
    "df['contato'] = str(df.Conversa_bruta).split(']')[1].split(':')[0]"
   ]
  },
  {
   "cell_type": "code",
   "execution_count": 304,
   "metadata": {},
   "outputs": [],
   "source": [
    "df['mensagem'] = df.apply(lambda x : str(x.Conversa_bruta).split(':')[-1].split(\"\\n\")[0] , axis = 1)"
   ]
  },
  {
   "cell_type": "code",
   "execution_count": 305,
   "metadata": {},
   "outputs": [
    {
     "data": {
      "text/html": [
       "<div>\n",
       "<style scoped>\n",
       "    .dataframe tbody tr th:only-of-type {\n",
       "        vertical-align: middle;\n",
       "    }\n",
       "\n",
       "    .dataframe tbody tr th {\n",
       "        vertical-align: top;\n",
       "    }\n",
       "\n",
       "    .dataframe thead th {\n",
       "        text-align: right;\n",
       "    }\n",
       "</style>\n",
       "<table border=\"1\" class=\"dataframe\">\n",
       "  <thead>\n",
       "    <tr style=\"text-align: right;\">\n",
       "      <th></th>\n",
       "      <th>Conversa_bruta</th>\n",
       "      <th>Data_mensagem</th>\n",
       "      <th>contato</th>\n",
       "      <th>mensagem</th>\n",
       "    </tr>\n",
       "  </thead>\n",
       "  <tbody>\n",
       "    <tr>\n",
       "      <th>0</th>\n",
       "      <td>[06/11/2019, 19:58:14] Gabriel Moura: âAs me...</td>\n",
       "      <td>06/11/2019, 19:58:14</td>\n",
       "      <td>Gabriel Moura</td>\n",
       "      <td>âAs mensagens e as ligaÃ§Ãµes sÃ£o protegid...</td>\n",
       "    </tr>\n",
       "    <tr>\n",
       "      <th>1</th>\n",
       "      <td>â[10/11/2019, 13:07:00] Gabriel: âÃ¡udio o...</td>\n",
       "      <td>06/11/2019, 19:58:14</td>\n",
       "      <td>Gabriel Moura</td>\n",
       "      <td>âÃ¡udio ocultado</td>\n",
       "    </tr>\n",
       "    <tr>\n",
       "      <th>2</th>\n",
       "      <td>[18/11/2019, 12:14:36] Gabriel: Livro hells an...</td>\n",
       "      <td>06/11/2019, 19:58:14</td>\n",
       "      <td>Gabriel Moura</td>\n",
       "      <td>Livro hells angels</td>\n",
       "    </tr>\n",
       "    <tr>\n",
       "      <th>3</th>\n",
       "      <td>[20/11/2019, 16:51:05] Gabriel: copeland\\n</td>\n",
       "      <td>06/11/2019, 19:58:14</td>\n",
       "      <td>Gabriel Moura</td>\n",
       "      <td>copeland</td>\n",
       "    </tr>\n",
       "    <tr>\n",
       "      <th>4</th>\n",
       "      <td>[20/11/2019, 16:51:09] Gabriel: album\\n</td>\n",
       "      <td>06/11/2019, 19:58:14</td>\n",
       "      <td>Gabriel Moura</td>\n",
       "      <td>album</td>\n",
       "    </tr>\n",
       "    <tr>\n",
       "      <th>...</th>\n",
       "      <td>...</td>\n",
       "      <td>...</td>\n",
       "      <td>...</td>\n",
       "      <td>...</td>\n",
       "    </tr>\n",
       "    <tr>\n",
       "      <th>951</th>\n",
       "      <td>[28/03/2024, 07:05:32] Gabriel: Internet \\n</td>\n",
       "      <td>06/11/2019, 19:58:14</td>\n",
       "      <td>Gabriel Moura</td>\n",
       "      <td>Internet</td>\n",
       "    </tr>\n",
       "    <tr>\n",
       "      <th>952</th>\n",
       "      <td>Vivo \\n</td>\n",
       "      <td>06/11/2019, 19:58:14</td>\n",
       "      <td>Gabriel Moura</td>\n",
       "      <td>Vivo</td>\n",
       "    </tr>\n",
       "    <tr>\n",
       "      <th>953</th>\n",
       "      <td>Aluguel\\n</td>\n",
       "      <td>06/11/2019, 19:58:14</td>\n",
       "      <td>Gabriel Moura</td>\n",
       "      <td>Aluguel</td>\n",
       "    </tr>\n",
       "    <tr>\n",
       "      <th>954</th>\n",
       "      <td>Seguro carro\\n</td>\n",
       "      <td>06/11/2019, 19:58:14</td>\n",
       "      <td>Gabriel Moura</td>\n",
       "      <td>Seguro carro</td>\n",
       "    </tr>\n",
       "    <tr>\n",
       "      <th>955</th>\n",
       "      <td>Dinheiro Pai\\n</td>\n",
       "      <td>06/11/2019, 19:58:14</td>\n",
       "      <td>Gabriel Moura</td>\n",
       "      <td>Dinheiro Pai</td>\n",
       "    </tr>\n",
       "  </tbody>\n",
       "</table>\n",
       "<p>956 rows × 4 columns</p>\n",
       "</div>"
      ],
      "text/plain": [
       "                                        Conversa_bruta         Data_mensagem  \\\n",
       "0    [06/11/2019, 19:58:14] Gabriel Moura: âAs me...  06/11/2019, 19:58:14   \n",
       "1    â[10/11/2019, 13:07:00] Gabriel: âÃ¡udio o...  06/11/2019, 19:58:14   \n",
       "2    [18/11/2019, 12:14:36] Gabriel: Livro hells an...  06/11/2019, 19:58:14   \n",
       "3           [20/11/2019, 16:51:05] Gabriel: copeland\\n  06/11/2019, 19:58:14   \n",
       "4              [20/11/2019, 16:51:09] Gabriel: album\\n  06/11/2019, 19:58:14   \n",
       "..                                                 ...                   ...   \n",
       "951        [28/03/2024, 07:05:32] Gabriel: Internet \\n  06/11/2019, 19:58:14   \n",
       "952                                            Vivo \\n  06/11/2019, 19:58:14   \n",
       "953                                          Aluguel\\n  06/11/2019, 19:58:14   \n",
       "954                                     Seguro carro\\n  06/11/2019, 19:58:14   \n",
       "955                                     Dinheiro Pai\\n  06/11/2019, 19:58:14   \n",
       "\n",
       "            contato                                           mensagem  \n",
       "0     Gabriel Moura   âAs mensagens e as ligaÃ§Ãµes sÃ£o protegid...  \n",
       "1     Gabriel Moura                                 âÃ¡udio ocultado  \n",
       "2     Gabriel Moura                                 Livro hells angels  \n",
       "3     Gabriel Moura                                           copeland  \n",
       "4     Gabriel Moura                                              album  \n",
       "..              ...                                                ...  \n",
       "951   Gabriel Moura                                          Internet   \n",
       "952   Gabriel Moura                                              Vivo   \n",
       "953   Gabriel Moura                                            Aluguel  \n",
       "954   Gabriel Moura                                       Seguro carro  \n",
       "955   Gabriel Moura                                       Dinheiro Pai  \n",
       "\n",
       "[956 rows x 4 columns]"
      ]
     },
     "execution_count": 305,
     "metadata": {},
     "output_type": "execute_result"
    }
   ],
   "source": [
    "df"
   ]
  },
  {
   "cell_type": "code",
   "execution_count": null,
   "metadata": {},
   "outputs": [],
   "source": []
  }
 ],
 "metadata": {
  "kernelspec": {
   "display_name": "Python 3",
   "language": "python",
   "name": "python3"
  },
  "language_info": {
   "codemirror_mode": {
    "name": "ipython",
    "version": 3
   },
   "file_extension": ".py",
   "mimetype": "text/x-python",
   "name": "python",
   "nbconvert_exporter": "python",
   "pygments_lexer": "ipython3",
   "version": "3.7.9"
  }
 },
 "nbformat": 4,
 "nbformat_minor": 2
}
