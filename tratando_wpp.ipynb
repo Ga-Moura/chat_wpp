{
 "cells": [
  {
   "cell_type": "code",
   "execution_count": 358,
   "metadata": {},
   "outputs": [],
   "source": [
    "import pandas as pd\n",
    "import zipfile\n",
    "import os"
   ]
  },
  {
   "cell_type": "code",
   "execution_count": 376,
   "metadata": {},
   "outputs": [
    {
     "name": "stdout",
     "output_type": "stream",
     "text": [
      "Bem vinda ao Seu programa de converter mensagens do WhatsApp, Adriana\n",
      "\n",
      "Adriana, vamos converter nossas programações!!! \n",
      "\n",
      "Sua escolha é: 1\n",
      "\n",
      "Seu tipo de arquivo é: .zip\n"
     ]
    }
   ],
   "source": [
    "nome = input(\"Olá, Qual é seu nome? \")\n",
    "\n",
    "print(f\"Bem vinda ao Seu programa de converter mensagens do WhatsApp, {nome}\\n\")\n",
    "print(f'{nome}, vamos converter nossas programações!!! \\n')\n",
    "\n",
    "tipo_arquivo = int(input(f\"Qual é o tipo do seu arquivo? \\n Digite [1] para arquivo .zip \\n Digite [2] para arquivo .txt\"))\n",
    "\n",
    "print(f\"Sua escolha é: {tipo_arquivo}\\n\")\n",
    "\n",
    "r = \"Seu tipo de arquivo é: .zip\" if tipo_arquivo == 1 else \"Seu tipo de arquivo é: .txt\" if tipo_arquivo == 2 else \"Você Não digitou o número correto.\"\n",
    "        \n",
    "print(r)"
   ]
  },
  {
   "cell_type": "code",
   "execution_count": 360,
   "metadata": {},
   "outputs": [],
   "source": [
    "arquivo_zip = \"WhatsApp Chat - Gabriel Moura.zip\""
   ]
  },
  {
   "cell_type": "code",
   "execution_count": 361,
   "metadata": {},
   "outputs": [],
   "source": [
    "with zipfile.ZipFile(arquivo_zip, 'r') as zip_fer:\n",
    "    zip_fer.extractall()"
   ]
  },
  {
   "cell_type": "code",
   "execution_count": 362,
   "metadata": {},
   "outputs": [],
   "source": [
    "path = '_chat.txt'"
   ]
  },
  {
   "cell_type": "code",
   "execution_count": 363,
   "metadata": {},
   "outputs": [],
   "source": [
    "with open(path, 'r', encoding='latin1') as f:\n",
    "    # Leia as linhas do arquivo\n",
    "    lines = f.readlines()"
   ]
  },
  {
   "cell_type": "code",
   "execution_count": 364,
   "metadata": {},
   "outputs": [],
   "source": [
    "df = []\n",
    "for line in lines:\n",
    "\n",
    "    df.append(line)\n",
    "\n",
    "df = pd.DataFrame(df,columns=['Conversa_bruta'])\n"
   ]
  },
  {
   "cell_type": "code",
   "execution_count": 365,
   "metadata": {},
   "outputs": [],
   "source": [
    "df['Data_mensagem'] = str(df.Conversa_bruta).split('[')[1].split(']')[0]"
   ]
  },
  {
   "cell_type": "code",
   "execution_count": 366,
   "metadata": {},
   "outputs": [],
   "source": [
    "df['contato'] = str(df.Conversa_bruta).split(']')[1].split(':')[0]"
   ]
  },
  {
   "cell_type": "code",
   "execution_count": 367,
   "metadata": {},
   "outputs": [],
   "source": [
    "df['mensagem'] = df.apply(lambda x : str(x.Conversa_bruta).split(':')[-1].split(\"\\n\")[0] , axis = 1)"
   ]
  },
  {
   "cell_type": "code",
   "execution_count": 368,
   "metadata": {},
   "outputs": [],
   "source": [
    "df['Data_mensagem'] = df['Data_mensagem'].astype('datetime64')"
   ]
  },
  {
   "cell_type": "code",
   "execution_count": null,
   "metadata": {},
   "outputs": [],
   "source": []
  }
 ],
 "metadata": {
  "kernelspec": {
   "display_name": "Python 3",
   "language": "python",
   "name": "python3"
  },
  "language_info": {
   "codemirror_mode": {
    "name": "ipython",
    "version": 3
   },
   "file_extension": ".py",
   "mimetype": "text/x-python",
   "name": "python",
   "nbconvert_exporter": "python",
   "pygments_lexer": "ipython3",
   "version": "3.7.9"
  }
 },
 "nbformat": 4,
 "nbformat_minor": 2
}
